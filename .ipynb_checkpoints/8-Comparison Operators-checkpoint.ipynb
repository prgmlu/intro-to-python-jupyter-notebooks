{
 "cells": [
  {
   "cell_type": "markdown",
   "metadata": {},
   "source": [
    "![title](dataset-cover.jpg)"
   ]
  },
  {
   "cell_type": "code",
   "execution_count": 2,
   "metadata": {},
   "outputs": [],
   "source": [
    "import pandas\n",
    "pokemon_data=pandas.read_csv('pokemon.csv')"
   ]
  },
  {
   "cell_type": "markdown",
   "metadata": {},
   "source": [
    "We'll do what we did in the previous lesson, and focus our attention to a smaller part of the dataset:"
   ]
  },
  {
   "cell_type": "code",
   "execution_count": 3,
   "metadata": {},
   "outputs": [
    {
     "data": {
      "text/html": [
       "<div>\n",
       "<style scoped>\n",
       "    .dataframe tbody tr th:only-of-type {\n",
       "        vertical-align: middle;\n",
       "    }\n",
       "\n",
       "    .dataframe tbody tr th {\n",
       "        vertical-align: top;\n",
       "    }\n",
       "\n",
       "    .dataframe thead th {\n",
       "        text-align: right;\n",
       "    }\n",
       "</style>\n",
       "<table border=\"1\" class=\"dataframe\">\n",
       "  <thead>\n",
       "    <tr style=\"text-align: right;\">\n",
       "      <th></th>\n",
       "      <th>name</th>\n",
       "      <th>classfication</th>\n",
       "      <th>defense</th>\n",
       "      <th>japanese_name</th>\n",
       "      <th>weight_kg</th>\n",
       "      <th>hp</th>\n",
       "      <th>speed</th>\n",
       "    </tr>\n",
       "  </thead>\n",
       "  <tbody>\n",
       "    <tr>\n",
       "      <th>0</th>\n",
       "      <td>Bulbasaur</td>\n",
       "      <td>Seed Pokémon</td>\n",
       "      <td>49</td>\n",
       "      <td>Fushigidaneフシギダネ</td>\n",
       "      <td>6.9</td>\n",
       "      <td>45</td>\n",
       "      <td>45</td>\n",
       "    </tr>\n",
       "    <tr>\n",
       "      <th>1</th>\n",
       "      <td>Ivysaur</td>\n",
       "      <td>Seed Pokémon</td>\n",
       "      <td>63</td>\n",
       "      <td>Fushigisouフシギソウ</td>\n",
       "      <td>13.0</td>\n",
       "      <td>60</td>\n",
       "      <td>60</td>\n",
       "    </tr>\n",
       "    <tr>\n",
       "      <th>2</th>\n",
       "      <td>Venusaur</td>\n",
       "      <td>Seed Pokémon</td>\n",
       "      <td>123</td>\n",
       "      <td>Fushigibanaフシギバナ</td>\n",
       "      <td>100.0</td>\n",
       "      <td>80</td>\n",
       "      <td>80</td>\n",
       "    </tr>\n",
       "    <tr>\n",
       "      <th>3</th>\n",
       "      <td>Charmander</td>\n",
       "      <td>Lizard Pokémon</td>\n",
       "      <td>43</td>\n",
       "      <td>Hitokageヒトカゲ</td>\n",
       "      <td>8.5</td>\n",
       "      <td>39</td>\n",
       "      <td>65</td>\n",
       "    </tr>\n",
       "    <tr>\n",
       "      <th>4</th>\n",
       "      <td>Charmeleon</td>\n",
       "      <td>Flame Pokémon</td>\n",
       "      <td>58</td>\n",
       "      <td>Lizardoリザード</td>\n",
       "      <td>19.0</td>\n",
       "      <td>58</td>\n",
       "      <td>80</td>\n",
       "    </tr>\n",
       "    <tr>\n",
       "      <th>5</th>\n",
       "      <td>Charizard</td>\n",
       "      <td>Flame Pokémon</td>\n",
       "      <td>78</td>\n",
       "      <td>Lizardonリザードン</td>\n",
       "      <td>90.5</td>\n",
       "      <td>78</td>\n",
       "      <td>100</td>\n",
       "    </tr>\n",
       "    <tr>\n",
       "      <th>6</th>\n",
       "      <td>Squirtle</td>\n",
       "      <td>Tiny Turtle Pokémon</td>\n",
       "      <td>65</td>\n",
       "      <td>Zenigameゼニガメ</td>\n",
       "      <td>9.0</td>\n",
       "      <td>44</td>\n",
       "      <td>43</td>\n",
       "    </tr>\n",
       "    <tr>\n",
       "      <th>7</th>\n",
       "      <td>Wartortle</td>\n",
       "      <td>Turtle Pokémon</td>\n",
       "      <td>80</td>\n",
       "      <td>Kameilカメール</td>\n",
       "      <td>22.5</td>\n",
       "      <td>59</td>\n",
       "      <td>58</td>\n",
       "    </tr>\n",
       "    <tr>\n",
       "      <th>8</th>\n",
       "      <td>Blastoise</td>\n",
       "      <td>Shellfish Pokémon</td>\n",
       "      <td>120</td>\n",
       "      <td>Kamexカメックス</td>\n",
       "      <td>85.5</td>\n",
       "      <td>79</td>\n",
       "      <td>78</td>\n",
       "    </tr>\n",
       "    <tr>\n",
       "      <th>9</th>\n",
       "      <td>Caterpie</td>\n",
       "      <td>Worm Pokémon</td>\n",
       "      <td>35</td>\n",
       "      <td>Caterpieキャタピー</td>\n",
       "      <td>2.9</td>\n",
       "      <td>45</td>\n",
       "      <td>45</td>\n",
       "    </tr>\n",
       "    <tr>\n",
       "      <th>10</th>\n",
       "      <td>Metapod</td>\n",
       "      <td>Cocoon Pokémon</td>\n",
       "      <td>55</td>\n",
       "      <td>Transelトランセル</td>\n",
       "      <td>9.9</td>\n",
       "      <td>50</td>\n",
       "      <td>30</td>\n",
       "    </tr>\n",
       "    <tr>\n",
       "      <th>11</th>\n",
       "      <td>Butterfree</td>\n",
       "      <td>Butterfly Pokémon</td>\n",
       "      <td>50</td>\n",
       "      <td>Butterfreeバタフリー</td>\n",
       "      <td>32.0</td>\n",
       "      <td>60</td>\n",
       "      <td>70</td>\n",
       "    </tr>\n",
       "    <tr>\n",
       "      <th>12</th>\n",
       "      <td>Weedle</td>\n",
       "      <td>Hairy Pokémon</td>\n",
       "      <td>30</td>\n",
       "      <td>Beedleビードル</td>\n",
       "      <td>3.2</td>\n",
       "      <td>40</td>\n",
       "      <td>50</td>\n",
       "    </tr>\n",
       "    <tr>\n",
       "      <th>13</th>\n",
       "      <td>Kakuna</td>\n",
       "      <td>Cocoon Pokémon</td>\n",
       "      <td>50</td>\n",
       "      <td>Cocoonコクーン</td>\n",
       "      <td>10.0</td>\n",
       "      <td>45</td>\n",
       "      <td>35</td>\n",
       "    </tr>\n",
       "    <tr>\n",
       "      <th>14</th>\n",
       "      <td>Beedrill</td>\n",
       "      <td>Poison Bee Pokémon</td>\n",
       "      <td>40</td>\n",
       "      <td>Spearスピアー</td>\n",
       "      <td>29.5</td>\n",
       "      <td>65</td>\n",
       "      <td>145</td>\n",
       "    </tr>\n",
       "    <tr>\n",
       "      <th>15</th>\n",
       "      <td>Pidgey</td>\n",
       "      <td>Tiny Bird Pokémon</td>\n",
       "      <td>40</td>\n",
       "      <td>Poppoポッポ</td>\n",
       "      <td>1.8</td>\n",
       "      <td>40</td>\n",
       "      <td>56</td>\n",
       "    </tr>\n",
       "    <tr>\n",
       "      <th>16</th>\n",
       "      <td>Pidgeotto</td>\n",
       "      <td>Bird Pokémon</td>\n",
       "      <td>55</td>\n",
       "      <td>Pigeonピジョン</td>\n",
       "      <td>30.0</td>\n",
       "      <td>63</td>\n",
       "      <td>71</td>\n",
       "    </tr>\n",
       "    <tr>\n",
       "      <th>17</th>\n",
       "      <td>Pidgeot</td>\n",
       "      <td>Bird Pokémon</td>\n",
       "      <td>80</td>\n",
       "      <td>Pigeotピジョット</td>\n",
       "      <td>39.5</td>\n",
       "      <td>83</td>\n",
       "      <td>121</td>\n",
       "    </tr>\n",
       "    <tr>\n",
       "      <th>18</th>\n",
       "      <td>Rattata</td>\n",
       "      <td>Mouse Pokémon</td>\n",
       "      <td>35</td>\n",
       "      <td>Korattaコラッタ</td>\n",
       "      <td>NaN</td>\n",
       "      <td>30</td>\n",
       "      <td>72</td>\n",
       "    </tr>\n",
       "    <tr>\n",
       "      <th>19</th>\n",
       "      <td>Raticate</td>\n",
       "      <td>Mouse Pokémon</td>\n",
       "      <td>70</td>\n",
       "      <td>Rattaラッタ</td>\n",
       "      <td>NaN</td>\n",
       "      <td>75</td>\n",
       "      <td>77</td>\n",
       "    </tr>\n",
       "    <tr>\n",
       "      <th>20</th>\n",
       "      <td>Spearow</td>\n",
       "      <td>Tiny Bird Pokémon</td>\n",
       "      <td>30</td>\n",
       "      <td>Onisuzumeオニスズメ</td>\n",
       "      <td>2.0</td>\n",
       "      <td>40</td>\n",
       "      <td>70</td>\n",
       "    </tr>\n",
       "    <tr>\n",
       "      <th>21</th>\n",
       "      <td>Fearow</td>\n",
       "      <td>Beak Pokémon</td>\n",
       "      <td>65</td>\n",
       "      <td>Onidrillオニドリル</td>\n",
       "      <td>38.0</td>\n",
       "      <td>65</td>\n",
       "      <td>100</td>\n",
       "    </tr>\n",
       "    <tr>\n",
       "      <th>22</th>\n",
       "      <td>Ekans</td>\n",
       "      <td>Snake Pokémon</td>\n",
       "      <td>44</td>\n",
       "      <td>Arboアーボ</td>\n",
       "      <td>6.9</td>\n",
       "      <td>35</td>\n",
       "      <td>55</td>\n",
       "    </tr>\n",
       "    <tr>\n",
       "      <th>23</th>\n",
       "      <td>Arbok</td>\n",
       "      <td>Cobra Pokémon</td>\n",
       "      <td>69</td>\n",
       "      <td>Arbokアーボック</td>\n",
       "      <td>65.0</td>\n",
       "      <td>60</td>\n",
       "      <td>80</td>\n",
       "    </tr>\n",
       "    <tr>\n",
       "      <th>24</th>\n",
       "      <td>Pikachu</td>\n",
       "      <td>Mouse Pokémon</td>\n",
       "      <td>40</td>\n",
       "      <td>Pikachuピカチュウ</td>\n",
       "      <td>6.0</td>\n",
       "      <td>35</td>\n",
       "      <td>90</td>\n",
       "    </tr>\n",
       "    <tr>\n",
       "      <th>25</th>\n",
       "      <td>Raichu</td>\n",
       "      <td>Mouse Pokémon</td>\n",
       "      <td>50</td>\n",
       "      <td>Raichuライチュウ</td>\n",
       "      <td>NaN</td>\n",
       "      <td>60</td>\n",
       "      <td>110</td>\n",
       "    </tr>\n",
       "    <tr>\n",
       "      <th>26</th>\n",
       "      <td>Sandshrew</td>\n",
       "      <td>Mouse Pokémon</td>\n",
       "      <td>90</td>\n",
       "      <td>Sandサンド</td>\n",
       "      <td>NaN</td>\n",
       "      <td>50</td>\n",
       "      <td>40</td>\n",
       "    </tr>\n",
       "    <tr>\n",
       "      <th>27</th>\n",
       "      <td>Sandslash</td>\n",
       "      <td>Mouse Pokémon</td>\n",
       "      <td>120</td>\n",
       "      <td>Sandpanサンドパン</td>\n",
       "      <td>NaN</td>\n",
       "      <td>75</td>\n",
       "      <td>65</td>\n",
       "    </tr>\n",
       "    <tr>\n",
       "      <th>28</th>\n",
       "      <td>Nidoran♀</td>\n",
       "      <td>Poison Pin Pokémon</td>\n",
       "      <td>52</td>\n",
       "      <td>Nidoran?ニドラン♀</td>\n",
       "      <td>7.0</td>\n",
       "      <td>55</td>\n",
       "      <td>41</td>\n",
       "    </tr>\n",
       "    <tr>\n",
       "      <th>29</th>\n",
       "      <td>Nidorina</td>\n",
       "      <td>Poison Pin Pokémon</td>\n",
       "      <td>67</td>\n",
       "      <td>Nidorinaニドリーナ</td>\n",
       "      <td>20.0</td>\n",
       "      <td>70</td>\n",
       "      <td>56</td>\n",
       "    </tr>\n",
       "    <tr>\n",
       "      <th>...</th>\n",
       "      <td>...</td>\n",
       "      <td>...</td>\n",
       "      <td>...</td>\n",
       "      <td>...</td>\n",
       "      <td>...</td>\n",
       "      <td>...</td>\n",
       "      <td>...</td>\n",
       "    </tr>\n",
       "    <tr>\n",
       "      <th>771</th>\n",
       "      <td>Type: Null</td>\n",
       "      <td>Synthetic Pokémon</td>\n",
       "      <td>95</td>\n",
       "      <td>Type: Nullタイプ：ヌル</td>\n",
       "      <td>120.5</td>\n",
       "      <td>95</td>\n",
       "      <td>59</td>\n",
       "    </tr>\n",
       "    <tr>\n",
       "      <th>772</th>\n",
       "      <td>Silvally</td>\n",
       "      <td>Synthetic Pokémon</td>\n",
       "      <td>95</td>\n",
       "      <td>Silvadyシルヴァディ</td>\n",
       "      <td>100.5</td>\n",
       "      <td>95</td>\n",
       "      <td>95</td>\n",
       "    </tr>\n",
       "    <tr>\n",
       "      <th>773</th>\n",
       "      <td>Minior</td>\n",
       "      <td>Meteor Pokémon</td>\n",
       "      <td>60</td>\n",
       "      <td>Metenoメテノ</td>\n",
       "      <td>40.0</td>\n",
       "      <td>60</td>\n",
       "      <td>120</td>\n",
       "    </tr>\n",
       "    <tr>\n",
       "      <th>774</th>\n",
       "      <td>Komala</td>\n",
       "      <td>Drowsing Pokémon</td>\n",
       "      <td>65</td>\n",
       "      <td>Nekkoaraネッコアラ</td>\n",
       "      <td>19.9</td>\n",
       "      <td>65</td>\n",
       "      <td>65</td>\n",
       "    </tr>\n",
       "    <tr>\n",
       "      <th>775</th>\n",
       "      <td>Turtonator</td>\n",
       "      <td>Blast Turtle Pokémon</td>\n",
       "      <td>135</td>\n",
       "      <td>Bakugamesバクガメス</td>\n",
       "      <td>212.0</td>\n",
       "      <td>60</td>\n",
       "      <td>36</td>\n",
       "    </tr>\n",
       "    <tr>\n",
       "      <th>776</th>\n",
       "      <td>Togedemaru</td>\n",
       "      <td>Roly-Poly Pokémon</td>\n",
       "      <td>63</td>\n",
       "      <td>Togedemaruトゲデマル</td>\n",
       "      <td>3.3</td>\n",
       "      <td>65</td>\n",
       "      <td>96</td>\n",
       "    </tr>\n",
       "    <tr>\n",
       "      <th>777</th>\n",
       "      <td>Mimikyu</td>\n",
       "      <td>Disguise Pokémon</td>\n",
       "      <td>80</td>\n",
       "      <td>Mimikkyuミミッキュ</td>\n",
       "      <td>0.7</td>\n",
       "      <td>55</td>\n",
       "      <td>96</td>\n",
       "    </tr>\n",
       "    <tr>\n",
       "      <th>778</th>\n",
       "      <td>Bruxish</td>\n",
       "      <td>Gnash Teeth Pokémon</td>\n",
       "      <td>70</td>\n",
       "      <td>Hagigishiriハギギシリ</td>\n",
       "      <td>19.0</td>\n",
       "      <td>68</td>\n",
       "      <td>92</td>\n",
       "    </tr>\n",
       "    <tr>\n",
       "      <th>779</th>\n",
       "      <td>Drampa</td>\n",
       "      <td>Placid Pokémon</td>\n",
       "      <td>85</td>\n",
       "      <td>Jijilongジジーロン</td>\n",
       "      <td>185.0</td>\n",
       "      <td>78</td>\n",
       "      <td>36</td>\n",
       "    </tr>\n",
       "    <tr>\n",
       "      <th>780</th>\n",
       "      <td>Dhelmise</td>\n",
       "      <td>Sea Creeper Pokémon</td>\n",
       "      <td>100</td>\n",
       "      <td>Dadarinダダリン</td>\n",
       "      <td>210.0</td>\n",
       "      <td>70</td>\n",
       "      <td>40</td>\n",
       "    </tr>\n",
       "    <tr>\n",
       "      <th>781</th>\n",
       "      <td>Jangmo-o</td>\n",
       "      <td>Scaly Pokémon</td>\n",
       "      <td>65</td>\n",
       "      <td>Jyarakoジャラコ</td>\n",
       "      <td>29.7</td>\n",
       "      <td>45</td>\n",
       "      <td>45</td>\n",
       "    </tr>\n",
       "    <tr>\n",
       "      <th>782</th>\n",
       "      <td>Hakamo-o</td>\n",
       "      <td>Scaly Pokémon</td>\n",
       "      <td>90</td>\n",
       "      <td>Jyarangoジャランゴ</td>\n",
       "      <td>47.0</td>\n",
       "      <td>55</td>\n",
       "      <td>65</td>\n",
       "    </tr>\n",
       "    <tr>\n",
       "      <th>783</th>\n",
       "      <td>Kommo-o</td>\n",
       "      <td>Scaly Pokémon</td>\n",
       "      <td>125</td>\n",
       "      <td>Jyararangaジャラランガ</td>\n",
       "      <td>78.2</td>\n",
       "      <td>75</td>\n",
       "      <td>85</td>\n",
       "    </tr>\n",
       "    <tr>\n",
       "      <th>784</th>\n",
       "      <td>Tapu Koko</td>\n",
       "      <td>Land Spirit Pokémon</td>\n",
       "      <td>85</td>\n",
       "      <td>Kapu-kokekoカプ・コケコ</td>\n",
       "      <td>20.5</td>\n",
       "      <td>70</td>\n",
       "      <td>130</td>\n",
       "    </tr>\n",
       "    <tr>\n",
       "      <th>785</th>\n",
       "      <td>Tapu Lele</td>\n",
       "      <td>Land Spirit Pokémon</td>\n",
       "      <td>75</td>\n",
       "      <td>Kapu-tetefuカプ・テテフ</td>\n",
       "      <td>18.6</td>\n",
       "      <td>70</td>\n",
       "      <td>95</td>\n",
       "    </tr>\n",
       "    <tr>\n",
       "      <th>786</th>\n",
       "      <td>Tapu Bulu</td>\n",
       "      <td>Land Spirit Pokémon</td>\n",
       "      <td>115</td>\n",
       "      <td>Kapu-bululカプ・ブルル</td>\n",
       "      <td>45.5</td>\n",
       "      <td>70</td>\n",
       "      <td>75</td>\n",
       "    </tr>\n",
       "    <tr>\n",
       "      <th>787</th>\n",
       "      <td>Tapu Fini</td>\n",
       "      <td>Land Spirit Pokémon</td>\n",
       "      <td>115</td>\n",
       "      <td>Kapu-rehireカプ・レヒレ</td>\n",
       "      <td>21.2</td>\n",
       "      <td>70</td>\n",
       "      <td>85</td>\n",
       "    </tr>\n",
       "    <tr>\n",
       "      <th>788</th>\n",
       "      <td>Cosmog</td>\n",
       "      <td>Nebula Pokémon</td>\n",
       "      <td>31</td>\n",
       "      <td>Cosmogコスモッグ</td>\n",
       "      <td>0.1</td>\n",
       "      <td>43</td>\n",
       "      <td>37</td>\n",
       "    </tr>\n",
       "    <tr>\n",
       "      <th>789</th>\n",
       "      <td>Cosmoem</td>\n",
       "      <td>Protostar Pokémon</td>\n",
       "      <td>131</td>\n",
       "      <td>Cosmovumコスモウム</td>\n",
       "      <td>999.9</td>\n",
       "      <td>43</td>\n",
       "      <td>37</td>\n",
       "    </tr>\n",
       "    <tr>\n",
       "      <th>790</th>\n",
       "      <td>Solgaleo</td>\n",
       "      <td>Sunne Pokémon</td>\n",
       "      <td>107</td>\n",
       "      <td>Solgaleoソルガレオ</td>\n",
       "      <td>230.0</td>\n",
       "      <td>137</td>\n",
       "      <td>97</td>\n",
       "    </tr>\n",
       "    <tr>\n",
       "      <th>791</th>\n",
       "      <td>Lunala</td>\n",
       "      <td>Moone Pokémon</td>\n",
       "      <td>89</td>\n",
       "      <td>Lunalaルナアーラ</td>\n",
       "      <td>120.0</td>\n",
       "      <td>137</td>\n",
       "      <td>97</td>\n",
       "    </tr>\n",
       "    <tr>\n",
       "      <th>792</th>\n",
       "      <td>Nihilego</td>\n",
       "      <td>Parasite Pokémon</td>\n",
       "      <td>47</td>\n",
       "      <td>Uturoidウツロイド</td>\n",
       "      <td>55.5</td>\n",
       "      <td>109</td>\n",
       "      <td>103</td>\n",
       "    </tr>\n",
       "    <tr>\n",
       "      <th>793</th>\n",
       "      <td>Buzzwole</td>\n",
       "      <td>Swollen Pokémon</td>\n",
       "      <td>139</td>\n",
       "      <td>Massivoonマッシブーン</td>\n",
       "      <td>333.6</td>\n",
       "      <td>107</td>\n",
       "      <td>79</td>\n",
       "    </tr>\n",
       "    <tr>\n",
       "      <th>794</th>\n",
       "      <td>Pheromosa</td>\n",
       "      <td>Lissome Pokémon</td>\n",
       "      <td>37</td>\n",
       "      <td>Pheroacheフェローチェ</td>\n",
       "      <td>25.0</td>\n",
       "      <td>71</td>\n",
       "      <td>151</td>\n",
       "    </tr>\n",
       "    <tr>\n",
       "      <th>795</th>\n",
       "      <td>Xurkitree</td>\n",
       "      <td>Glowing Pokémon</td>\n",
       "      <td>71</td>\n",
       "      <td>Denjyumokuデンジュモク</td>\n",
       "      <td>100.0</td>\n",
       "      <td>83</td>\n",
       "      <td>83</td>\n",
       "    </tr>\n",
       "    <tr>\n",
       "      <th>796</th>\n",
       "      <td>Celesteela</td>\n",
       "      <td>Launch Pokémon</td>\n",
       "      <td>103</td>\n",
       "      <td>Tekkaguyaテッカグヤ</td>\n",
       "      <td>999.9</td>\n",
       "      <td>97</td>\n",
       "      <td>61</td>\n",
       "    </tr>\n",
       "    <tr>\n",
       "      <th>797</th>\n",
       "      <td>Kartana</td>\n",
       "      <td>Drawn Sword Pokémon</td>\n",
       "      <td>131</td>\n",
       "      <td>Kamiturugiカミツルギ</td>\n",
       "      <td>0.1</td>\n",
       "      <td>59</td>\n",
       "      <td>109</td>\n",
       "    </tr>\n",
       "    <tr>\n",
       "      <th>798</th>\n",
       "      <td>Guzzlord</td>\n",
       "      <td>Junkivore Pokémon</td>\n",
       "      <td>53</td>\n",
       "      <td>Akuzikingアクジキング</td>\n",
       "      <td>888.0</td>\n",
       "      <td>223</td>\n",
       "      <td>43</td>\n",
       "    </tr>\n",
       "    <tr>\n",
       "      <th>799</th>\n",
       "      <td>Necrozma</td>\n",
       "      <td>Prism Pokémon</td>\n",
       "      <td>101</td>\n",
       "      <td>Necrozmaネクロズマ</td>\n",
       "      <td>230.0</td>\n",
       "      <td>97</td>\n",
       "      <td>79</td>\n",
       "    </tr>\n",
       "    <tr>\n",
       "      <th>800</th>\n",
       "      <td>Magearna</td>\n",
       "      <td>Artificial Pokémon</td>\n",
       "      <td>115</td>\n",
       "      <td>Magearnaマギアナ</td>\n",
       "      <td>80.5</td>\n",
       "      <td>80</td>\n",
       "      <td>65</td>\n",
       "    </tr>\n",
       "  </tbody>\n",
       "</table>\n",
       "<p>801 rows × 7 columns</p>\n",
       "</div>"
      ],
      "text/plain": [
       "           name         classfication  defense      japanese_name  weight_kg  \\\n",
       "0     Bulbasaur          Seed Pokémon       49   Fushigidaneフシギダネ        6.9   \n",
       "1       Ivysaur          Seed Pokémon       63    Fushigisouフシギソウ       13.0   \n",
       "2      Venusaur          Seed Pokémon      123   Fushigibanaフシギバナ      100.0   \n",
       "3    Charmander        Lizard Pokémon       43       Hitokageヒトカゲ        8.5   \n",
       "4    Charmeleon         Flame Pokémon       58        Lizardoリザード       19.0   \n",
       "5     Charizard         Flame Pokémon       78      Lizardonリザードン       90.5   \n",
       "6      Squirtle   Tiny Turtle Pokémon       65       Zenigameゼニガメ        9.0   \n",
       "7     Wartortle        Turtle Pokémon       80         Kameilカメール       22.5   \n",
       "8     Blastoise     Shellfish Pokémon      120         Kamexカメックス       85.5   \n",
       "9      Caterpie          Worm Pokémon       35      Caterpieキャタピー        2.9   \n",
       "10      Metapod        Cocoon Pokémon       55       Transelトランセル        9.9   \n",
       "11   Butterfree     Butterfly Pokémon       50    Butterfreeバタフリー       32.0   \n",
       "12       Weedle         Hairy Pokémon       30         Beedleビードル        3.2   \n",
       "13       Kakuna        Cocoon Pokémon       50         Cocoonコクーン       10.0   \n",
       "14     Beedrill    Poison Bee Pokémon       40          Spearスピアー       29.5   \n",
       "15       Pidgey     Tiny Bird Pokémon       40           Poppoポッポ        1.8   \n",
       "16    Pidgeotto          Bird Pokémon       55         Pigeonピジョン       30.0   \n",
       "17      Pidgeot          Bird Pokémon       80        Pigeotピジョット       39.5   \n",
       "18      Rattata         Mouse Pokémon       35        Korattaコラッタ        NaN   \n",
       "19     Raticate         Mouse Pokémon       70           Rattaラッタ        NaN   \n",
       "20      Spearow     Tiny Bird Pokémon       30     Onisuzumeオニスズメ        2.0   \n",
       "21       Fearow          Beak Pokémon       65      Onidrillオニドリル       38.0   \n",
       "22        Ekans         Snake Pokémon       44            Arboアーボ        6.9   \n",
       "23        Arbok         Cobra Pokémon       69         Arbokアーボック       65.0   \n",
       "24      Pikachu         Mouse Pokémon       40       Pikachuピカチュウ        6.0   \n",
       "25       Raichu         Mouse Pokémon       50        Raichuライチュウ        NaN   \n",
       "26    Sandshrew         Mouse Pokémon       90            Sandサンド        NaN   \n",
       "27    Sandslash         Mouse Pokémon      120       Sandpanサンドパン        NaN   \n",
       "28     Nidoran♀    Poison Pin Pokémon       52      Nidoran?ニドラン♀        7.0   \n",
       "29     Nidorina    Poison Pin Pokémon       67      Nidorinaニドリーナ       20.0   \n",
       "..          ...                   ...      ...                ...        ...   \n",
       "771  Type: Null     Synthetic Pokémon       95   Type: Nullタイプ：ヌル      120.5   \n",
       "772    Silvally     Synthetic Pokémon       95      Silvadyシルヴァディ      100.5   \n",
       "773      Minior        Meteor Pokémon       60          Metenoメテノ       40.0   \n",
       "774      Komala      Drowsing Pokémon       65      Nekkoaraネッコアラ       19.9   \n",
       "775  Turtonator  Blast Turtle Pokémon      135     Bakugamesバクガメス      212.0   \n",
       "776  Togedemaru     Roly-Poly Pokémon       63    Togedemaruトゲデマル        3.3   \n",
       "777     Mimikyu      Disguise Pokémon       80      Mimikkyuミミッキュ        0.7   \n",
       "778     Bruxish   Gnash Teeth Pokémon       70   Hagigishiriハギギシリ       19.0   \n",
       "779      Drampa        Placid Pokémon       85      Jijilongジジーロン      185.0   \n",
       "780    Dhelmise   Sea Creeper Pokémon      100        Dadarinダダリン      210.0   \n",
       "781    Jangmo-o         Scaly Pokémon       65        Jyarakoジャラコ       29.7   \n",
       "782    Hakamo-o         Scaly Pokémon       90      Jyarangoジャランゴ       47.0   \n",
       "783     Kommo-o         Scaly Pokémon      125   Jyararangaジャラランガ       78.2   \n",
       "784   Tapu Koko   Land Spirit Pokémon       85  Kapu-kokekoカプ・コケコ       20.5   \n",
       "785   Tapu Lele   Land Spirit Pokémon       75  Kapu-tetefuカプ・テテフ       18.6   \n",
       "786   Tapu Bulu   Land Spirit Pokémon      115   Kapu-bululカプ・ブルル       45.5   \n",
       "787   Tapu Fini   Land Spirit Pokémon      115  Kapu-rehireカプ・レヒレ       21.2   \n",
       "788      Cosmog        Nebula Pokémon       31        Cosmogコスモッグ        0.1   \n",
       "789     Cosmoem     Protostar Pokémon      131      Cosmovumコスモウム      999.9   \n",
       "790    Solgaleo         Sunne Pokémon      107      Solgaleoソルガレオ      230.0   \n",
       "791      Lunala         Moone Pokémon       89        Lunalaルナアーラ      120.0   \n",
       "792    Nihilego      Parasite Pokémon       47       Uturoidウツロイド       55.5   \n",
       "793    Buzzwole       Swollen Pokémon      139    Massivoonマッシブーン      333.6   \n",
       "794   Pheromosa       Lissome Pokémon       37    Pheroacheフェローチェ       25.0   \n",
       "795   Xurkitree       Glowing Pokémon       71   Denjyumokuデンジュモク      100.0   \n",
       "796  Celesteela        Launch Pokémon      103     Tekkaguyaテッカグヤ      999.9   \n",
       "797     Kartana   Drawn Sword Pokémon      131    Kamiturugiカミツルギ        0.1   \n",
       "798    Guzzlord     Junkivore Pokémon       53    Akuzikingアクジキング      888.0   \n",
       "799    Necrozma         Prism Pokémon      101      Necrozmaネクロズマ      230.0   \n",
       "800    Magearna    Artificial Pokémon      115       Magearnaマギアナ       80.5   \n",
       "\n",
       "      hp  speed  \n",
       "0     45     45  \n",
       "1     60     60  \n",
       "2     80     80  \n",
       "3     39     65  \n",
       "4     58     80  \n",
       "5     78    100  \n",
       "6     44     43  \n",
       "7     59     58  \n",
       "8     79     78  \n",
       "9     45     45  \n",
       "10    50     30  \n",
       "11    60     70  \n",
       "12    40     50  \n",
       "13    45     35  \n",
       "14    65    145  \n",
       "15    40     56  \n",
       "16    63     71  \n",
       "17    83    121  \n",
       "18    30     72  \n",
       "19    75     77  \n",
       "20    40     70  \n",
       "21    65    100  \n",
       "22    35     55  \n",
       "23    60     80  \n",
       "24    35     90  \n",
       "25    60    110  \n",
       "26    50     40  \n",
       "27    75     65  \n",
       "28    55     41  \n",
       "29    70     56  \n",
       "..   ...    ...  \n",
       "771   95     59  \n",
       "772   95     95  \n",
       "773   60    120  \n",
       "774   65     65  \n",
       "775   60     36  \n",
       "776   65     96  \n",
       "777   55     96  \n",
       "778   68     92  \n",
       "779   78     36  \n",
       "780   70     40  \n",
       "781   45     45  \n",
       "782   55     65  \n",
       "783   75     85  \n",
       "784   70    130  \n",
       "785   70     95  \n",
       "786   70     75  \n",
       "787   70     85  \n",
       "788   43     37  \n",
       "789   43     37  \n",
       "790  137     97  \n",
       "791  137     97  \n",
       "792  109    103  \n",
       "793  107     79  \n",
       "794   71    151  \n",
       "795   83     83  \n",
       "796   97     61  \n",
       "797   59    109  \n",
       "798  223     43  \n",
       "799   97     79  \n",
       "800   80     65  \n",
       "\n",
       "[801 rows x 7 columns]"
      ]
     },
     "execution_count": 3,
     "metadata": {},
     "output_type": "execute_result"
    }
   ],
   "source": [
    "pokemon_data[['name','classfication','defense','japanese_name','weight_kg','hp','speed']]"
   ]
  },
  {
   "cell_type": "markdown",
   "metadata": {},
   "source": [
    "lets put the smaller dataset in a variable so it's easier to work with"
   ]
  },
  {
   "cell_type": "code",
   "execution_count": 5,
   "metadata": {},
   "outputs": [],
   "source": [
    "smaller_dataset=pokemon_data[['name','classfication','defense','japanese_name','weight_kg','hp','speed']]"
   ]
  },
  {
   "cell_type": "code",
   "execution_count": 6,
   "metadata": {},
   "outputs": [
    {
     "data": {
      "text/plain": [
       "name                     Abomasnow\n",
       "classfication    Abundance Pokémon\n",
       "defense                          5\n",
       "japanese_name        Abagouraアバゴーラ\n",
       "weight_kg                      0.1\n",
       "hp                               1\n",
       "speed                            5\n",
       "dtype: object"
      ]
     },
     "execution_count": 6,
     "metadata": {},
     "output_type": "execute_result"
    }
   ],
   "source": [
    "smaller_dataset.min()"
   ]
  },
  {
   "cell_type": "code",
   "execution_count": 7,
   "metadata": {},
   "outputs": [
    {
     "data": {
      "text/plain": [
       "name                             Zygarde\n",
       "classfication          Zen Charm Pokémon\n",
       "defense                              230\n",
       "japanese_name    Zygarde (10% Forme)ジガルデ\n",
       "weight_kg                          999.9\n",
       "hp                                   255\n",
       "speed                                180\n",
       "dtype: object"
      ]
     },
     "execution_count": 7,
     "metadata": {},
     "output_type": "execute_result"
    }
   ],
   "source": [
    "smaller_dataset.max()"
   ]
  },
  {
   "cell_type": "markdown",
   "metadata": {},
   "source": [
    "these are the minimum and maximum values! we can see that there's a pokemon with hp=1, and another with weight =0.1 kg! to find out which pokemon is that, tune in for the next lesson!"
   ]
  },
  {
   "cell_type": "markdown",
   "metadata": {},
   "source": [
    "# Comparison Operators \n",
    "\n",
    "In this lecture we will be learning about Comparison Operators in Python. These operators will allow us to compare variables and output a Boolean value (True or False). \n",
    "\n",
    "If you have any sort of background in Math, these operators should be very straight forward.\n",
    "\n",
    "First we'll present a table of the comparison operators and then work through some examples:\n",
    "\n",
    "## Table of Comparison Operators\n",
    "\n",
    "<table class=\"table table-bordered\">\n",
    "<tr>\n",
    "<th style=\"width:10%\">Operator</th><th style=\"width:45%\">Description</th><th>Example</th>\n",
    "</tr>\n",
    "<tr>\n",
    "<td>==</td>\n",
    "<td>If the values of two operands are equal, then the condition becomes true.</td>\n",
    "<td> (a == b) is not true.</td>\n",
    "</tr>\n",
    "<tr>\n",
    "<td>!=</td>\n",
    "<td>If values of two operands are not equal, then condition becomes true.</td>\n",
    "<td>(a != b) is true</td>\n",
    "</tr>\n",
    "<tr>\n",
    "<td>&lt;&gt;</td>\n",
    "<td>If values of two operands are not equal, then condition becomes true.</td>\n",
    "<td> (a &lt;&gt; b) is true. This is similar to != operator.</td>\n",
    "</tr>\n",
    "<tr>\n",
    "<td>&gt;</td>\n",
    "<td>If the value of left operand is greater than the value of right operand, then condition becomes true.</td>\n",
    "<td> (a &gt; b) is not true.</td>\n",
    "</tr>\n",
    "<tr>\n",
    "<td>&lt;</td>\n",
    "<td>If the value of left operand is less than the value of right operand, then condition becomes true.</td>\n",
    "<td> (a &lt; b) is true.</td>\n",
    "</tr>\n",
    "<tr>\n",
    "<td>&gt;=</td>\n",
    "<td>If the value of left operand is greater than or equal to the value of right operand, then condition becomes true.</td>\n",
    "<td> (a &gt;= b) is not true. </td>\n",
    "</tr>\n",
    "<tr>\n",
    "<td>&lt;=</td>\n",
    "<td>If the value of left operand is less than or equal to the value of right operand, then condition becomes true.</td>\n",
    "<td> (a &lt;= b) is true. </td>\n",
    "</tr>\n",
    "</table>"
   ]
  },
  {
   "cell_type": "markdown",
   "metadata": {},
   "source": [
    "Let's now work through quick examples of each of these.\n",
    "\n",
    "####Equal"
   ]
  },
  {
   "cell_type": "code",
   "execution_count": 3,
   "metadata": {},
   "outputs": [
    {
     "data": {
      "text/plain": [
       "True"
      ]
     },
     "execution_count": 3,
     "metadata": {},
     "output_type": "execute_result"
    }
   ],
   "source": [
    "2 == 2"
   ]
  },
  {
   "cell_type": "code",
   "execution_count": 4,
   "metadata": {},
   "outputs": [
    {
     "data": {
      "text/plain": [
       "False"
      ]
     },
     "execution_count": 4,
     "metadata": {},
     "output_type": "execute_result"
    }
   ],
   "source": [
    "1 == 0"
   ]
  },
  {
   "cell_type": "markdown",
   "metadata": {},
   "source": [
    "#### Not Equal"
   ]
  },
  {
   "cell_type": "code",
   "execution_count": 5,
   "metadata": {},
   "outputs": [
    {
     "data": {
      "text/plain": [
       "True"
      ]
     },
     "execution_count": 5,
     "metadata": {},
     "output_type": "execute_result"
    }
   ],
   "source": [
    "2 != 1"
   ]
  },
  {
   "cell_type": "code",
   "execution_count": 6,
   "metadata": {},
   "outputs": [
    {
     "data": {
      "text/plain": [
       "False"
      ]
     },
     "execution_count": 6,
     "metadata": {},
     "output_type": "execute_result"
    }
   ],
   "source": [
    "2 != 2"
   ]
  },
  {
   "cell_type": "code",
   "execution_count": 7,
   "metadata": {},
   "outputs": [
    {
     "data": {
      "text/plain": [
       "True"
      ]
     },
     "execution_count": 7,
     "metadata": {},
     "output_type": "execute_result"
    }
   ],
   "source": [
    "2 <> 1"
   ]
  },
  {
   "cell_type": "code",
   "execution_count": 8,
   "metadata": {},
   "outputs": [
    {
     "data": {
      "text/plain": [
       "False"
      ]
     },
     "execution_count": 8,
     "metadata": {},
     "output_type": "execute_result"
    }
   ],
   "source": [
    "2 <> 2"
   ]
  },
  {
   "cell_type": "markdown",
   "metadata": {},
   "source": [
    "#### Greater Than"
   ]
  },
  {
   "cell_type": "code",
   "execution_count": 9,
   "metadata": {},
   "outputs": [
    {
     "data": {
      "text/plain": [
       "True"
      ]
     },
     "execution_count": 9,
     "metadata": {},
     "output_type": "execute_result"
    }
   ],
   "source": [
    "2 > 1"
   ]
  },
  {
   "cell_type": "code",
   "execution_count": 10,
   "metadata": {},
   "outputs": [
    {
     "data": {
      "text/plain": [
       "False"
      ]
     },
     "execution_count": 10,
     "metadata": {},
     "output_type": "execute_result"
    }
   ],
   "source": [
    "2 > 4"
   ]
  },
  {
   "cell_type": "markdown",
   "metadata": {},
   "source": [
    "#### Less Than"
   ]
  },
  {
   "cell_type": "code",
   "execution_count": 11,
   "metadata": {},
   "outputs": [
    {
     "data": {
      "text/plain": [
       "True"
      ]
     },
     "execution_count": 11,
     "metadata": {},
     "output_type": "execute_result"
    }
   ],
   "source": [
    "2 < 4"
   ]
  },
  {
   "cell_type": "code",
   "execution_count": 12,
   "metadata": {},
   "outputs": [
    {
     "data": {
      "text/plain": [
       "False"
      ]
     },
     "execution_count": 12,
     "metadata": {},
     "output_type": "execute_result"
    }
   ],
   "source": [
    "2 < 1"
   ]
  },
  {
   "cell_type": "markdown",
   "metadata": {},
   "source": [
    "#### Greater Than or Equal to"
   ]
  },
  {
   "cell_type": "code",
   "execution_count": 13,
   "metadata": {},
   "outputs": [
    {
     "data": {
      "text/plain": [
       "True"
      ]
     },
     "execution_count": 13,
     "metadata": {},
     "output_type": "execute_result"
    }
   ],
   "source": [
    "2 >= 2"
   ]
  },
  {
   "cell_type": "code",
   "execution_count": 14,
   "metadata": {},
   "outputs": [
    {
     "data": {
      "text/plain": [
       "True"
      ]
     },
     "execution_count": 14,
     "metadata": {},
     "output_type": "execute_result"
    }
   ],
   "source": [
    "2 >= 1"
   ]
  },
  {
   "cell_type": "markdown",
   "metadata": {},
   "source": [
    "#### Less than or Equal to"
   ]
  },
  {
   "cell_type": "code",
   "execution_count": 15,
   "metadata": {},
   "outputs": [
    {
     "data": {
      "text/plain": [
       "True"
      ]
     },
     "execution_count": 15,
     "metadata": {},
     "output_type": "execute_result"
    }
   ],
   "source": [
    "2 <= 2"
   ]
  },
  {
   "cell_type": "code",
   "execution_count": 16,
   "metadata": {},
   "outputs": [
    {
     "data": {
      "text/plain": [
       "True"
      ]
     },
     "execution_count": 16,
     "metadata": {},
     "output_type": "execute_result"
    }
   ],
   "source": [
    "2 <= 4"
   ]
  },
  {
   "cell_type": "markdown",
   "metadata": {},
   "source": [
    "**Great! Go over each comparison operator to make sure you understand what each one is saying. But hopefully this was straightforward for you**\n",
    "\n",
    "Next we will cover chained comparison operators"
   ]
  }
 ],
 "metadata": {
  "kernelspec": {
   "display_name": "Python 3",
   "language": "python",
   "name": "python3"
  },
  "language_info": {
   "codemirror_mode": {
    "name": "ipython",
    "version": 3
   },
   "file_extension": ".py",
   "mimetype": "text/x-python",
   "name": "python",
   "nbconvert_exporter": "python",
   "pygments_lexer": "ipython3",
   "version": "3.5.2"
  }
 },
 "nbformat": 4,
 "nbformat_minor": 1
}
